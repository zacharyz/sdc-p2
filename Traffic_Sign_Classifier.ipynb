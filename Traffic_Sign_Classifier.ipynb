{
 "cells": [
  {
   "cell_type": "markdown",
   "metadata": {},
   "source": [
    "# Self-Driving Car Engineer Nanodegree\n",
    "\n",
    "## Deep Learning\n",
    "\n",
    "## Project: Build a Traffic Sign Recognition Classifier\n",
    "\n",
    "In this notebook, a template is provided for you to implement your functionality in stages, which is required to successfully complete this project. If additional code is required that cannot be included in the notebook, be sure that the Python code is successfully imported and included in your submission if necessary. \n",
    "\n",
    "> **Note**: Once you have completed all of the code implementations, you need to finalize your work by exporting the iPython Notebook as an HTML document. Before exporting the notebook to html, all of the code cells need to have been run so that reviewers can see the final implementation and output. You can then export the notebook by using the menu above and navigating to  \\n\",\n",
    "    \"**File -> Download as -> HTML (.html)**. Include the finished document along with this notebook as your submission. \n",
    "\n",
    "In addition to implementing code, there is a writeup to complete. The writeup should be completed in a separate file, which can be either a markdown file or a pdf document. There is a [write up template](https://github.com/udacity/CarND-Traffic-Sign-Classifier-Project/blob/master/writeup_template.md) that can be used to guide the writing process. Completing the code template and writeup template will cover all of the [rubric points](https://review.udacity.com/#!/rubrics/481/view) for this project.\n",
    "\n",
    "The [rubric](https://review.udacity.com/#!/rubrics/481/view) contains \"Stand Out Suggestions\" for enhancing the project beyond the minimum requirements. The stand out suggestions are optional. If you decide to pursue the \"stand out suggestions\", you can include the code in this Ipython notebook and also discuss the results in the writeup file.\n",
    "\n",
    "\n",
    ">**Note:** Code and Markdown cells can be executed using the **Shift + Enter** keyboard shortcut. In addition, Markdown cells can be edited by typically double-clicking the cell to enter edit mode."
   ]
  },
  {
   "cell_type": "markdown",
   "metadata": {},
   "source": [
    "---\n",
    "## Step 0: Load The Data"
   ]
  },
  {
   "cell_type": "code",
   "execution_count": 138,
   "metadata": {},
   "outputs": [],
   "source": [
    "# Load pickled data\n",
    "import pickle\n",
    "import random\n",
    "import numpy as np\n",
    "import csv\n",
    "\n",
    "training_file = 'traffic-signs-data/train.p'\n",
    "validation_file= 'traffic-signs-data/valid.p'\n",
    "testing_file = 'traffic-signs-data/test.p'\n",
    "\n",
    "with open(training_file, mode='rb') as f:\n",
    "    train = pickle.load(f)\n",
    "with open(validation_file, mode='rb') as f:\n",
    "    valid = pickle.load(f)\n",
    "with open(testing_file, mode='rb') as f:\n",
    "    test = pickle.load(f)\n",
    "    \n",
    "X_train, y_train = train['features'], train['labels']\n",
    "X_valid, y_valid = valid['features'], valid['labels']\n",
    "X_test, y_test = test['features'], test['labels']\n",
    "\n",
    "def show_sample(img, y_data):\n",
    "    plt.figure(figsize=(1,1))\n",
    "    plt.title(sign_names[str(y_data)], fontsize=8)\n",
    "    plt.tick_params(axis='both', which='major', labelsize=6)\n",
    "    plt.imshow(img)\n",
    "\n",
    "\n",
    "def load_traffic_sign_names(csvfile):\n",
    "    signnames = dict()\n",
    "    with open(csvfile, 'r') as f:\n",
    "        for line in f.readlines():\n",
    "            array = line.split(',')\n",
    "            signnames[array[0]] = array[1]\n",
    "    return signnames\n",
    "        \n",
    "sign_names = load_traffic_sign_names('signnames.csv')"
   ]
  },
  {
   "cell_type": "markdown",
   "metadata": {},
   "source": [
    "---\n",
    "\n",
    "## Step 1: Dataset Summary & Exploration\n",
    "\n",
    "The pickled data is a dictionary with 4 key/value pairs:\n",
    "\n",
    "- `'features'` is a 4D array containing raw pixel data of the traffic sign images, (num examples, width, height, channels).\n",
    "- `'labels'` is a 1D array containing the label/class id of the traffic sign. The file `signnames.csv` contains id -> name mappings for each id.\n",
    "- `'sizes'` is a list containing tuples, (width, height) representing the original width and height the image.\n",
    "- `'coords'` is a list containing tuples, (x1, y1, x2, y2) representing coordinates of a bounding box around the sign in the image. **THESE COORDINATES ASSUME THE ORIGINAL IMAGE. THE PICKLED DATA CONTAINS RESIZED VERSIONS (32 by 32) OF THESE IMAGES**\n",
    "\n",
    "Complete the basic data summary below. Use python, numpy and/or pandas methods to calculate the data summary rather than hard coding the results. For example, the [pandas shape method](http://pandas.pydata.org/pandas-docs/stable/generated/pandas.DataFrame.shape.html) might be useful for calculating some of the summary results. "
   ]
  },
  {
   "cell_type": "markdown",
   "metadata": {},
   "source": [
    "### Provide a Basic Summary of the Data Set Using Python, Numpy and/or Pandas"
   ]
  },
  {
   "cell_type": "code",
   "execution_count": 139,
   "metadata": {},
   "outputs": [
    {
     "name": "stdout",
     "output_type": "stream",
     "text": [
      "Number of training examples = 34799\n",
      "Number of testing examples = 12630\n",
      "Image data shape = (32, 32, 3)\n",
      "Number of classes = 43\n"
     ]
    }
   ],
   "source": [
    "### Replace each question mark with the appropriate value. \n",
    "### Use python, pandas or numpy methods rather than hard coding the results\n",
    "\n",
    "# TODO: Number of training examples\n",
    "n_train = X_train.shape[0]\n",
    "\n",
    "# TODO: Number of validation examples\n",
    "n_validation = X_valid.shape[0]\n",
    "\n",
    "# TODO: Number of testing examples.\n",
    "n_test = X_test.shape[0]\n",
    "\n",
    "# TODO: What's the shape of an traffic sign image?\n",
    "image_shape = X_train[0].shape\n",
    "\n",
    "# TODO: How many unique classes/labels there are in the dataset.\n",
    "n_classes = np.unique(y_train).shape[0]\n",
    "\n",
    "print(\"Number of training examples =\", n_train)\n",
    "print(\"Number of testing examples =\", n_test)\n",
    "print(\"Image data shape =\", image_shape)\n",
    "print(\"Number of classes =\", n_classes)\n",
    "\n",
    "\n",
    "\n",
    "#Globals\n",
    "IMG_SIZE = image_shape[0]  # square image of size IMG_SIZE x IMG_SIZE\n",
    "GRAYSCALE = True  # convert image to grayscale?\n",
    "NUM_CHANNELS = 1 if GRAYSCALE else image_shape[2]\n",
    "NUM_CLASSES = n_classes\n",
    "\n"
   ]
  },
  {
   "cell_type": "markdown",
   "metadata": {},
   "source": [
    "### Include an exploratory visualization of the dataset"
   ]
  },
  {
   "cell_type": "markdown",
   "metadata": {},
   "source": [
    "Visualize the German Traffic Signs Dataset using the pickled file(s). This is open ended, suggestions include: plotting traffic sign images, plotting the count of each sign, etc. \n",
    "\n",
    "The [Matplotlib](http://matplotlib.org/) [examples](http://matplotlib.org/examples/index.html) and [gallery](http://matplotlib.org/gallery.html) pages are a great resource for doing visualizations in Python.\n",
    "\n",
    "**NOTE:** It's recommended you start with something simple first. If you wish to do more, come back to it after you've completed the rest of the sections. It can be interesting to look at the distribution of classes in the training, validation and test set. Is the distribution the same? Are there more examples of some classes than others?"
   ]
  },
  {
   "cell_type": "code",
   "execution_count": 141,
   "metadata": {},
   "outputs": [
    {
     "data": {
      "image/png": "[encoded data removed]",
      "text/plain": [
       "<matplotlib.figure.Figure at 0x18082273630>"
      ]
     },
     "metadata": {},
     "output_type": "display_data"
    }
   ],
   "source": [
    "### Data exploration visualization code goes here.\n",
    "### Feel free to use as many code cells as needed.\n",
    "import matplotlib.pyplot as plt\n",
    "# Visualizations will be shown in the notebook.\n",
    "%matplotlib inline\n",
    "\n",
    "index = random.randint(0, len(X_train))\n",
    "show_sample(X_train[index], y_train[index])"
   ]
  },
  {
   "cell_type": "code",
   "execution_count": 96,
   "metadata": {},
   "outputs": [
    {
     "data": {
      "image/png": "[encoded data removed]",
      "text/plain": [
       "<matplotlib.figure.Figure at 0x180818c35f8>"
      ]
     },
     "metadata": {},
     "output_type": "display_data"
    }
   ],
   "source": [
    "index = random.randint(0, len(X_test))\n",
    "show_sample(X_test[index], y_test[index])"
   ]
  },
  {
   "cell_type": "code",
   "execution_count": 142,
   "metadata": {},
   "outputs": [
    {
     "name": "stdout",
     "output_type": "stream",
     "text": [
      "Number of training examples = 34799\n",
      "Number of testing examples = 12630\n"
     ]
    },
    {
     "data": {
      "image/png": "[encoded data removed]",
      "text/plain": [
       "<matplotlib.figure.Figure at 0x18318b90e48>"
      ]
     },
     "metadata": {},
     "output_type": "display_data"
    }
   ],
   "source": [
    "fig, (ax1, ax2) = plt.subplots(nrows=1, ncols=2)\n",
    "ax1.set_title('Train', fontsize=8)\n",
    "\n",
    "bins = range(n_classes + 1)\n",
    "ax1.hist(y_train, bins=bins)\n",
    "ax1.set_title('Distribution of classes in Train set', fontsize=10)\n",
    "\n",
    "ax2.hist(y_test, bins=bins)\n",
    "ax2.set_title('Distribution of classes in Test set', fontsize=10)\n",
    "\n",
    "plt.tight_layout()\n",
    "\n",
    "print(\"Number of training examples =\", len(y_train))\n",
    "print(\"Number of testing examples =\", len(y_test))  "
   ]
  },
  {
   "cell_type": "markdown",
   "metadata": {},
   "source": [
    "----\n",
    "\n",
    "## Step 2: Design and Test a Model Architecture\n",
    "\n",
    "Design and implement a deep learning model that learns to recognize traffic signs. Train and test your model on the [German Traffic Sign Dataset](http://benchmark.ini.rub.de/?section=gtsrb&subsection=dataset).\n",
    "\n",
    "The LeNet-5 implementation shown in the [classroom](https://classroom.udacity.com/nanodegrees/nd013/parts/fbf77062-5703-404e-b60c-95b78b2f3f9e/modules/6df7ae49-c61c-4bb2-a23e-6527e69209ec/lessons/601ae704-1035-4287-8b11-e2c2716217ad/concepts/d4aca031-508f-4e0b-b493-e7b706120f81) at the end of the CNN lesson is a solid starting point. You'll have to change the number of classes and possibly the preprocessing, but aside from that it's plug and play! \n",
    "\n",
    "With the LeNet-5 solution from the lecture, you should expect a validation set accuracy of about 0.89. To meet specifications, the validation set accuracy will need to be at least 0.93. It is possible to get an even higher accuracy, but 0.93 is the minimum for a successful project submission. \n",
    "\n",
    "There are various aspects to consider when thinking about this problem:\n",
    "\n",
    "- Neural network architecture (is the network over or underfitting?)\n",
    "- Play around preprocessing techniques (normalization, rgb to grayscale, etc)\n",
    "- Number of examples per label (some have more than others).\n",
    "- Generate fake data.\n",
    "\n",
    "Here is an example of a [published baseline model on this problem](http://yann.lecun.com/exdb/publis/pdf/sermanet-ijcnn-11.pdf). It's not required to be familiar with the approach used in the paper but, it's good practice to try to read papers like these."
   ]
  },
  {
   "cell_type": "markdown",
   "metadata": {},
   "source": [
    "### Pre-process the Data Set (normalization, grayscale, etc.)"
   ]
  },
  {
   "cell_type": "markdown",
   "metadata": {},
   "source": [
    "Minimally, the image data should be normalized so that the data has mean zero and equal variance. For image data, `(pixel - 128)/ 128` is a quick way to approximately normalize the data and can be used in this project. \n",
    "\n",
    "Other pre-processing steps are optional. You can try different techniques to see if it improves performance. \n",
    "\n",
    "Use the code cell (or multiple code cells, if necessary) to implement the first step of your project."
   ]
  },
  {
   "cell_type": "code",
   "execution_count": 143,
   "metadata": {},
   "outputs": [
    {
     "data": {
      "image/png": "[encoded data removed]",
      "text/plain": [
       "<matplotlib.figure.Figure at 0x180dc424f60>"
      ]
     },
     "metadata": {},
     "output_type": "display_data"
    }
   ],
   "source": [
    "### Preprocess the data here. It is required to normalize the data. Other preprocessing steps could include \n",
    "### converting to grayscale, etc.\n",
    "### Feel free to use as many code cells as needed.\n",
    "from sklearn.utils import shuffle\n",
    "\n",
    "# convert to grayscale if applicable\n",
    "# make all imagge values fall within -1 to 1\n",
    "def preprocess(x, y=None, grayscale=False):\n",
    "    if grayscale:\n",
    "        x = 0.299 * x[:, :, :, 0] + 0.587 * x[:, :, :, 1] + 0.114 * x[:, :, :, 2]\n",
    "        x = x.reshape(x.shape + (1,))\n",
    "    \n",
    "#     if y is not None:\n",
    "#         x, y = shuffle(x, y)\n",
    "    \n",
    "    x= x.astype('float32')\n",
    "    x = (x - 128.) / 128.    \n",
    "    \n",
    "    return x, y\n",
    "\n",
    "\n",
    "def center_and_normalize_image(images, mean, std):\n",
    "    images = images.astype('float32')\n",
    "    images -= mean\n",
    "    images /= std\n",
    "    return images\n",
    "\n",
    "index = random.randint(0, len(X_train))\n",
    "show_sample(X_train[index], y_train[index])\n",
    "\n",
    "# Preprocess\n",
    "X_train, y_train = preprocess(X_train, y_train, GRAYSCALE)\n",
    "X_test, y_test = preprocess(X_test, y_test, GRAYSCALE)\n",
    "\n",
    "# # Centering and normalization\n",
    "# MEAN = np.mean(X_train)\n",
    "# STD = np.std(X_train)\n",
    "\n",
    "# X_train = center_and_normalize_image(X_train, MEAN, STD)\n",
    "\n",
    "# print(\"mean = {:.3f}\".format(MEAN))\n",
    "# print(\"std = {:.3f}\".format(STD))\n",
    "\n",
    "# MEAN = np.mean(X_test)\n",
    "# STD = np.std(X_test)\n",
    "# X_test = center_and_normalize_image(X_train, MEAN, STD)\n"
   ]
  },
  {
   "cell_type": "code",
   "execution_count": 144,
   "metadata": {},
   "outputs": [
    {
     "name": "stdout",
     "output_type": "stream",
     "text": [
      "Size of training set = (27839, 32, 32, 1)\n",
      "Size of validation set = (6960, 32, 32, 1)\n"
     ]
    }
   ],
   "source": [
    "### Generate additional data (OPTIONAL!)\n",
    "### and split the data into training/validation/testing sets here.\n",
    "### Feel free to use as many code cells as needed.\n",
    "\n",
    "from sklearn.model_selection import train_test_split\n",
    "\n",
    "X_train, X_validation, y_train, y_validation = train_test_split(X_train, y_train, test_size=0.2, random_state=0)\n",
    "\n",
    "print(\"Size of training set =\", X_train.shape)\n",
    "print(\"Size of validation set =\", X_validation.shape)"
   ]
  },
  {
   "cell_type": "markdown",
   "metadata": {},
   "source": [
    "### Model Architecture"
   ]
  },
  {
   "cell_type": "code",
   "execution_count": 145,
   "metadata": {
    "collapsed": true
   },
   "outputs": [],
   "source": [
    "### Define your architecture here.\n",
    "### Feel free to use as many code cells as needed.\n",
    "\n",
    "import tensorflow as tf\n",
    "from tensorflow.contrib.layers import flatten\n",
    "\n",
    "def LeNet(x, input_channels, keep_prob=0.5, dropout=True):    \n",
    "    # Hyperparameters\n",
    "    mu = 0\n",
    "    sigma = 0.1\n",
    "\n",
    "    # SOLUTION: Layer 1: Convolutional. Input = 32x32x1. Output = 28x28x6.\n",
    "    conv1_W = tf.Variable(tf.truncated_normal(shape=(5, 5, input_channels, 6), mean = mu, stddev = sigma))\n",
    "    conv1_b = tf.Variable(tf.zeros(6))\n",
    "    conv1   = tf.nn.conv2d(x, conv1_W, strides=[1, 1, 1, 1], padding='VALID') + conv1_b\n",
    "\n",
    "    # SOLUTION: Activation.\n",
    "    conv1 = tf.nn.relu(conv1)\n",
    "\n",
    "    # SOLUTION: Pooling. Input = 28x28x6. Output = 14x14x6.\n",
    "    conv1 = tf.nn.max_pool(conv1, ksize=[1, 2, 2, 1], strides=[1, 2, 2, 1], padding='VALID')\n",
    "\n",
    "    # SOLUTION: Layer 2: Convolutional. Output = 10x10x16.\n",
    "    conv2_W = tf.Variable(tf.truncated_normal(shape=(5, 5, 6, 16), mean = mu, stddev = sigma))\n",
    "    conv2_b = tf.Variable(tf.zeros(16))\n",
    "    conv2   = tf.nn.conv2d(conv1, conv2_W, strides=[1, 1, 1, 1], padding='VALID') + conv2_b\n",
    "\n",
    "    # SOLUTION: Activation.\n",
    "    conv2 = tf.nn.relu(conv2)\n",
    "\n",
    "    # SOLUTION: Pooling. Input = 10x10x16. Output = 5x5x16.\n",
    "    conv2 = tf.nn.max_pool(conv2, ksize=[1, 2, 2, 1], strides=[1, 2, 2, 1], padding='VALID')\n",
    "\n",
    "   \n",
    "    # SOLUTION: Flatten. Input = 5x5x16. Output = 400.\n",
    "    fc0   = flatten(conv2)\n",
    "\n",
    "    # SOLUTION: Layer 3: Fully Connected. Input = 400. Output = 120.\n",
    "    fc1_W = tf.Variable(tf.truncated_normal(shape=(400, 120), mean = mu, stddev = sigma))\n",
    "    fc1_b = tf.Variable(tf.zeros(120))\n",
    "    fc1   = tf.matmul(fc0, fc1_W) + fc1_b\n",
    "\n",
    "    # SOLUTION: Activation.\n",
    "    fc1    = tf.nn.relu(fc1)\n",
    "    \n",
    "    # dropout\n",
    "    if dropout:\n",
    "        fc1 = tf.nn.dropout(fc1, keep_prob)\n",
    "        \n",
    "\n",
    "    # SOLUTION: Layer 4: Fully Connected. Input = 120. Output = 84.\n",
    "    fc2_W  = tf.Variable(tf.truncated_normal(shape=(120, 84), mean = mu, stddev = sigma))\n",
    "    fc2_b  = tf.Variable(tf.zeros(84))\n",
    "    fc2    = tf.matmul(fc1, fc2_W) + fc2_b\n",
    "\n",
    "    # SOLUTION: Activation.\n",
    "    fc2    = tf.nn.relu(fc2)\n",
    "    \n",
    "    # dropout\n",
    "    if dropout:\n",
    "        fc2 = tf.nn.dropout(fc2, keep_prob)\n",
    "\n",
    "    # SOLUTION: Layer 5: Fully Connected. Input = 84. Output = 10.\n",
    "    fc3_W  = tf.Variable(tf.truncated_normal(shape=(84, NUM_CLASSES), mean = mu, stddev = sigma))\n",
    "    fc3_b  = tf.Variable(tf.zeros(NUM_CLASSES))\n",
    "    logits = tf.matmul(fc2, fc3_W) + fc3_b\n",
    "\n",
    "    return logits, fc1_W, fc2_W, fc3_W"
   ]
  },
  {
   "cell_type": "markdown",
   "metadata": {},
   "source": [
    "### Train, Validate and Test the Model"
   ]
  },
  {
   "cell_type": "markdown",
   "metadata": {},
   "source": [
    "A validation set can be used to assess how well the model is performing. A low accuracy on the training and validation\n",
    "sets imply underfitting. A high accuracy on the training set but low accuracy on the validation set implies overfitting."
   ]
  },
  {
   "cell_type": "code",
   "execution_count": 100,
   "metadata": {
    "collapsed": true
   },
   "outputs": [],
   "source": [
    "### Train your model here.\n",
    "### Calculate and report the accuracy on the training and validation set.\n",
    "### Once a final model architecture is selected, \n",
    "### the accuracy on the test set should be calculated and reported as well.\n",
    "### Feel free to use as many code cells as needed."
   ]
  },
  {
   "cell_type": "markdown",
   "metadata": {},
   "source": [
    "Features and Labels"
   ]
  },
  {
   "cell_type": "code",
   "execution_count": 146,
   "metadata": {},
   "outputs": [],
   "source": [
    "\n",
    "# Parameters\n",
    "rate = 0.001\n",
    "EPOCHS = 50\n",
    "BATCH_SIZE = 128\n",
    "\n",
    "# Regularization\n",
    "keep_prob  = tf.placeholder(tf.float32)\n",
    "keep_prob_val = 0.5\n",
    "l2_lambda = 0.00001\n",
    "l2_reg = True\n",
    "\n",
    "x = tf.placeholder(tf.float32, (None, 32, 32, NUM_CHANNELS))\n",
    "y = tf.placeholder(tf.int32, (None))\n",
    "one_hot_y = tf.one_hot(y, NUM_CLASSES)\n",
    "\n",
    "# Training pipeline\n",
    "logits, fc1_W, fc2_W, fc3_W = LeNet(x, NUM_CHANNELS, keep_prob=0.5, dropout=False)\n",
    "cross_entropy = tf.nn.softmax_cross_entropy_with_logits(logits=logits, labels=one_hot_y)\n",
    "\n",
    "\n",
    "l2_reg_loss = 0\n",
    "if l2_reg:\n",
    "    l2_reg_loss = l2_lambda * tf.nn.l2_loss(fc1_W) + l2_lambda * tf.nn.l2_loss(fc2_W) + l2_lambda * tf.nn.l2_loss(fc3_W)\n",
    "    \n",
    "loss_operation = (tf.reduce_mean(cross_entropy) + l2_reg_loss)\n",
    "\n",
    "optimizer = tf.train.AdamOptimizer(learning_rate = rate)\n",
    "training_operation = optimizer.minimize(loss_operation)\n",
    "\n",
    "# Model evaluation\n",
    "correct_prediction = tf.equal(tf.argmax(logits, 1), tf.argmax(one_hot_y, 1))\n",
    "accuracy_operation = tf.reduce_mean(tf.cast(correct_prediction, tf.float32))\n",
    "saver = tf.train.Saver()\n",
    "\n",
    "def evaluate(X_data, y_data):\n",
    "    num_examples = len(X_data)\n",
    "    total_accuracy = 0\n",
    "    sess = tf.get_default_session()\n",
    "    for offset in range(0, num_examples, BATCH_SIZE):\n",
    "        batch_x, batch_y = X_data[offset:offset+BATCH_SIZE], y_data[offset:offset+BATCH_SIZE]\n",
    "        accuracy = sess.run(accuracy_operation, feed_dict={x: batch_x, y: batch_y, keep_prob: 1.0})\n",
    "        total_accuracy += (accuracy * len(batch_x))\n",
    "    return total_accuracy / num_examples"
   ]
  },
  {
   "cell_type": "code",
   "execution_count": 147,
   "metadata": {},
   "outputs": [
    {
     "name": "stdout",
     "output_type": "stream",
     "text": [
      "learning rate             =  0.001\n",
      "batch size                =  128\n",
      "total epochs              =  50\n",
      "preprocessing - grayscale =  ON\n",
      "dropout keep probability  =  0.5\n",
      "L2 regularization         =  ON\n",
      "l2 lambda                 =  1e-05\n",
      "\n",
      "Training...\n",
      "\n",
      "EPOCH 1 ...\n",
      "Validation Accuracy = 0.763\n",
      "Train Accuracy = 0.774\n",
      "\n",
      "EPOCH 2 ...\n",
      "Validation Accuracy = 0.863\n",
      "Train Accuracy = 0.878\n",
      "\n",
      "EPOCH 3 ...\n",
      "Validation Accuracy = 0.925\n",
      "Train Accuracy = 0.938\n",
      "\n",
      "EPOCH 4 ...\n",
      "Validation Accuracy = 0.943\n",
      "Train Accuracy = 0.955\n",
      "\n",
      "EPOCH 5 ...\n",
      "Validation Accuracy = 0.944\n",
      "Train Accuracy = 0.958\n",
      "\n",
      "EPOCH 6 ...\n",
      "Validation Accuracy = 0.958\n",
      "Train Accuracy = 0.969\n",
      "\n",
      "EPOCH 7 ...\n",
      "Validation Accuracy = 0.965\n",
      "Train Accuracy = 0.975\n",
      "\n",
      "EPOCH 8 ...\n",
      "Validation Accuracy = 0.964\n",
      "Train Accuracy = 0.979\n",
      "\n",
      "EPOCH 9 ...\n",
      "Validation Accuracy = 0.972\n",
      "Train Accuracy = 0.989\n",
      "\n",
      "EPOCH 10 ...\n",
      "Validation Accuracy = 0.978\n",
      "Train Accuracy = 0.990\n",
      "\n",
      "EPOCH 11 ...\n",
      "Validation Accuracy = 0.975\n",
      "Train Accuracy = 0.990\n",
      "\n",
      "EPOCH 12 ...\n",
      "Validation Accuracy = 0.977\n",
      "Train Accuracy = 0.992\n",
      "\n",
      "EPOCH 13 ...\n",
      "Validation Accuracy = 0.977\n",
      "Train Accuracy = 0.993\n",
      "\n",
      "EPOCH 14 ...\n",
      "Validation Accuracy = 0.968\n",
      "Train Accuracy = 0.984\n",
      "\n",
      "EPOCH 15 ...\n",
      "Validation Accuracy = 0.980\n",
      "Train Accuracy = 0.993\n",
      "\n",
      "EPOCH 16 ...\n",
      "Validation Accuracy = 0.977\n",
      "Train Accuracy = 0.994\n",
      "\n",
      "EPOCH 17 ...\n",
      "Validation Accuracy = 0.977\n",
      "Train Accuracy = 0.992\n",
      "\n",
      "EPOCH 18 ...\n",
      "Validation Accuracy = 0.979\n",
      "Train Accuracy = 0.995\n",
      "\n",
      "EPOCH 19 ...\n",
      "Validation Accuracy = 0.981\n",
      "Train Accuracy = 0.995\n",
      "\n",
      "EPOCH 20 ...\n",
      "Validation Accuracy = 0.981\n",
      "Train Accuracy = 0.998\n",
      "\n",
      "EPOCH 21 ...\n",
      "Validation Accuracy = 0.981\n",
      "Train Accuracy = 0.996\n",
      "\n",
      "EPOCH 22 ...\n",
      "Validation Accuracy = 0.979\n",
      "Train Accuracy = 0.995\n",
      "\n",
      "EPOCH 23 ...\n",
      "Validation Accuracy = 0.979\n",
      "Train Accuracy = 0.995\n",
      "\n",
      "EPOCH 24 ...\n",
      "Validation Accuracy = 0.982\n",
      "Train Accuracy = 0.998\n",
      "\n",
      "EPOCH 25 ...\n",
      "Validation Accuracy = 0.979\n",
      "Train Accuracy = 0.994\n",
      "\n",
      "EPOCH 26 ...\n",
      "Validation Accuracy = 0.979\n",
      "Train Accuracy = 0.995\n",
      "\n",
      "EPOCH 27 ...\n",
      "Validation Accuracy = 0.979\n",
      "Train Accuracy = 0.995\n",
      "\n",
      "EPOCH 28 ...\n",
      "Validation Accuracy = 0.979\n",
      "Train Accuracy = 0.993\n",
      "\n",
      "EPOCH 29 ...\n",
      "Validation Accuracy = 0.980\n",
      "Train Accuracy = 0.997\n",
      "\n",
      "EPOCH 30 ...\n",
      "Validation Accuracy = 0.985\n",
      "Train Accuracy = 0.998\n",
      "\n",
      "EPOCH 31 ...\n",
      "Validation Accuracy = 0.985\n",
      "Train Accuracy = 0.999\n",
      "\n",
      "EPOCH 32 ...\n",
      "Validation Accuracy = 0.976\n",
      "Train Accuracy = 0.993\n",
      "\n",
      "EPOCH 33 ...\n",
      "Validation Accuracy = 0.983\n",
      "Train Accuracy = 0.997\n",
      "\n",
      "EPOCH 34 ...\n",
      "Validation Accuracy = 0.986\n",
      "Train Accuracy = 0.999\n",
      "\n",
      "EPOCH 35 ...\n",
      "Validation Accuracy = 0.988\n",
      "Train Accuracy = 1.000\n",
      "\n",
      "EPOCH 36 ...\n",
      "Validation Accuracy = 0.988\n",
      "Train Accuracy = 1.000\n",
      "\n",
      "EPOCH 37 ...\n",
      "Validation Accuracy = 0.989\n",
      "Train Accuracy = 1.000\n",
      "\n",
      "EPOCH 38 ...\n",
      "Validation Accuracy = 0.989\n",
      "Train Accuracy = 1.000\n",
      "\n",
      "EPOCH 39 ...\n",
      "Validation Accuracy = 0.989\n",
      "Train Accuracy = 1.000\n",
      "\n",
      "EPOCH 40 ...\n",
      "Validation Accuracy = 0.964\n",
      "Train Accuracy = 0.983\n",
      "\n",
      "EPOCH 41 ...\n",
      "Validation Accuracy = 0.983\n",
      "Train Accuracy = 0.996\n",
      "\n",
      "EPOCH 42 ...\n",
      "Validation Accuracy = 0.987\n",
      "Train Accuracy = 1.000\n",
      "\n",
      "EPOCH 43 ...\n",
      "Validation Accuracy = 0.988\n",
      "Train Accuracy = 0.999\n",
      "\n",
      "EPOCH 44 ...\n",
      "Validation Accuracy = 0.983\n",
      "Train Accuracy = 0.997\n",
      "\n",
      "EPOCH 45 ...\n",
      "Validation Accuracy = 0.984\n",
      "Train Accuracy = 0.999\n",
      "\n",
      "EPOCH 46 ...\n",
      "Validation Accuracy = 0.982\n",
      "Train Accuracy = 0.997\n",
      "\n",
      "EPOCH 47 ...\n",
      "Validation Accuracy = 0.984\n",
      "Train Accuracy = 0.998\n",
      "\n",
      "EPOCH 48 ...\n",
      "Validation Accuracy = 0.986\n",
      "Train Accuracy = 0.999\n",
      "\n",
      "EPOCH 49 ...\n",
      "Validation Accuracy = 0.986\n",
      "Train Accuracy = 0.998\n",
      "\n",
      "EPOCH 50 ...\n",
      "Validation Accuracy = 0.989\n",
      "Train Accuracy = 1.000\n",
      "\n",
      "Model saved\n"
     ]
    }
   ],
   "source": [
    "### Train your model here.\n",
    "### Feel free to use as many code cells as needed.\n",
    "\n",
    "with tf.Session() as sess:\n",
    "    sess.run(tf.global_variables_initializer())\n",
    "    num_examples = len(X_train)\n",
    "    \n",
    "    print(\"learning rate             = \", rate)\n",
    "    print(\"batch size                = \", BATCH_SIZE)\n",
    "    print(\"total epochs              = \", EPOCHS)\n",
    "    print(\"preprocessing - grayscale = \", \"ON\" if GRAYSCALE else \"OFF\")\n",
    "    print(\"dropout keep probability  = \", keep_prob_val)\n",
    "    print(\"L2 regularization         = \", \"ON\" if l2_reg else \"OFF\")\n",
    "    if l2_reg:\n",
    "        print(\"l2 lambda                 = \", l2_lambda)\n",
    "    print()\n",
    "    print(\"Training...\")\n",
    "    print()\n",
    "    for i in range(EPOCHS):\n",
    "        X_train, y_train = shuffle(X_train, y_train)\n",
    "        for offset in range(0, num_examples, BATCH_SIZE):\n",
    "            end = offset + BATCH_SIZE\n",
    "            batch_x, batch_y = X_train[offset:end], y_train[offset:end]\n",
    "            sess.run(training_operation, feed_dict={x: batch_x, y: batch_y, keep_prob: keep_prob_val})\n",
    "            \n",
    "        validation_accuracy = evaluate(X_validation, y_validation)\n",
    "        train_accuracy = evaluate(X_train, y_train)\n",
    "        print(\"EPOCH {} ...\".format(i+1))\n",
    "        print(\"Validation Accuracy = {:.3f}\".format(validation_accuracy))\n",
    "        print(\"Train Accuracy = {:.3f}\".format(train_accuracy))\n",
    "        print()\n",
    "        \n",
    "    saver.save(sess, './traffic_sign')\n",
    "    print(\"Model saved\")"
   ]
  },
  {
   "cell_type": "code",
   "execution_count": 148,
   "metadata": {},
   "outputs": [
    {
     "name": "stdout",
     "output_type": "stream",
     "text": [
      "INFO:tensorflow:Restoring parameters from .\\traffic_sign\n",
      "Test Accuracy = 0.922\n"
     ]
    }
   ],
   "source": [
    "with tf.Session() as sess:\n",
    "    saver.restore(sess, tf.train.latest_checkpoint('.'))\n",
    "\n",
    "    test_accuracy = evaluate(X_test, y_test)\n",
    "    print(\"Test Accuracy = {:.3f}\".format(test_accuracy))"
   ]
  },
  {
   "cell_type": "markdown",
   "metadata": {},
   "source": [
    "---\n",
    "\n",
    "## Step 3: Test a Model on New Images\n",
    "\n",
    "To give yourself more insight into how your model is working, download at least five pictures of German traffic signs from the web and use your model to predict the traffic sign type.\n",
    "\n",
    "You may find `signnames.csv` useful as it contains mappings from the class id (integer) to the actual sign name."
   ]
  },
  {
   "cell_type": "markdown",
   "metadata": {},
   "source": [
    "### Load and Output the Images"
   ]
  },
  {
   "cell_type": "code",
   "execution_count": 149,
   "metadata": {},
   "outputs": [
    {
     "name": "stdout",
     "output_type": "stream",
     "text": [
      "New test images: \n"
     ]
    },
    {
     "name": "stderr",
     "output_type": "stream",
     "text": [
      "C:\\Users\\zacha\\AppData\\Local\\Continuum\\Miniconda3\\envs\\carnd-term1\\lib\\site-packages\\matplotlib\\figure.py:1742: UserWarning: This figure includes Axes that are not compatible with tight_layout, so its results might be incorrect.\n",
      "  warnings.warn(\"This figure includes Axes that are not \"\n"
     ]
    },
    {
     "data": {
      "image/png": "[encoded data removed]",
      "text/plain": [
       "<matplotlib.figure.Figure at 0x180d6a86198>"
      ]
     },
     "metadata": {},
     "output_type": "display_data"
    }
   ],
   "source": [
    "### Load the images and plot them here.\n",
    "### Feel free to use as many code cells as needed.\n",
    "import scipy.ndimage\n",
    "from glob import glob\n",
    "\n",
    "print(\"New test images: \")\n",
    "\n",
    "X_new_test = np.array([ scipy.ndimage.imread(f) for f in glob('test-images/*') ])\n",
    "\n",
    "fig = plt.figure(figsize=(16,8), tight_layout=True)\n",
    "c = 1\n",
    "for test_image in X_new_test:\n",
    "    subplt = fig.add_subplot(6,8,c)\n",
    "    subplt.set_title(\"%d\" % c, loc='center')\n",
    "    imgplot = plt.imshow(test_image)\n",
    "    c += 1\n",
    "\n",
    "plt.show()\n",
    "\n",
    "X_new_test_grayscale, _ = np.array(preprocess(X_new_test, grayscale = GRAYSCALE))"
   ]
  },
  {
   "cell_type": "markdown",
   "metadata": {},
   "source": [
    "### Predict the Sign Type for Each Image"
   ]
  },
  {
   "cell_type": "code",
   "execution_count": 160,
   "metadata": {},
   "outputs": [
    {
     "name": "stdout",
     "output_type": "stream",
     "text": [
      "Shape of X_new_test =  (10, 32, 32, 1)\n",
      "INFO:tensorflow:Restoring parameters from .\\traffic_sign\n",
      "Probabilities =  [[  1.07778158e+01   8.54414215e+01   4.40862312e+01  -3.93407478e+01\n",
      "    1.90791798e+01   1.13944674e+00  -1.53167009e+01  -4.49346886e+01\n",
      "   -4.42101173e+01  -5.98604164e+01  -5.91290283e+01  -2.78781567e+01\n",
      "   -1.29458408e+01  -6.31996994e+01   1.23611917e+01  -2.96200199e+01\n",
      "   -9.57526779e+01  -2.82180920e+01  -3.81851997e+01  -7.18893204e+01\n",
      "   -6.64077606e+01  -3.63365898e+01  -9.64909821e+01  -8.54192657e+01\n",
      "   -4.71882362e+01  -2.83354378e+01  -5.04051285e+01  -4.27349968e+01\n",
      "   -6.37208366e+01  -2.50656357e+01  -1.05901337e+02  -5.75624619e+01\n",
      "   -7.18129635e+00  -1.32121630e+01  -7.08003922e+01  -5.31616249e+01\n",
      "   -3.61413574e+01  -1.90744667e+01  -1.67560120e+01   7.50898504e+00\n",
      "   -1.97587700e+01  -7.15404510e+01  -6.04033051e+01]\n",
      " [ -6.39745102e+01  -2.28803997e+01  -3.72899323e+01  -4.10065155e+01\n",
      "   -4.30919609e+01   1.18808413e+00  -5.69294930e+01  -6.90904465e+01\n",
      "   -6.78789215e+01  -6.76841736e+01  -3.57904892e+01   1.12996368e+01\n",
      "   -3.92547264e+01  -6.66061096e+01  -6.00887794e+01  -4.25854034e+01\n",
      "   -1.00868935e+02  -5.55885315e+01   7.16660461e+01  -2.27867126e+01\n",
      "   -9.72349167e+00  -1.68748741e+01  -3.52738953e+01  -3.17549953e+01\n",
      "    4.55982161e+00   1.32351761e+01   8.69347763e+00   4.98978157e+01\n",
      "   -1.24165077e+01  -1.84829559e+01  -4.99478416e+01   2.41851211e+00\n",
      "   -6.15572548e+01  -2.08642311e+01  -4.21858940e+01  -4.49649849e+01\n",
      "   -4.52479668e+01   3.16939926e+01  -3.22004776e+01  -7.33615828e+00\n",
      "    4.43520689e+00  -5.93010864e+01  -8.57467499e+01]\n",
      " [ -3.14829426e+01  -1.23524153e+00   4.98718977e+00  -1.96623135e+01\n",
      "   -1.42239685e+01  -6.71837807e+00  -1.28242912e+01  -5.49192905e-01\n",
      "   -1.49937859e+01  -1.91642427e+00  -1.94263096e+01  -1.32897806e+01\n",
      "    3.28598518e+01   2.51309961e-01  -1.21684256e+01  -6.72020006e+00\n",
      "   -1.07888937e+01  -7.30164242e+00  -2.03471241e+01  -2.63035202e+01\n",
      "   -2.86886654e+01  -9.45101547e+00  -3.51320724e+01  -2.70544109e+01\n",
      "   -3.22317963e+01  -1.26924992e+01  -8.87926769e+00  -2.47949600e+01\n",
      "   -2.12036304e+01  -9.94700146e+00  -1.42791815e+01  -4.18400154e+01\n",
      "    2.40848613e+00  -2.17146683e+01  -3.06129189e+01  -1.87275906e+01\n",
      "   -1.88931465e+01  -1.51531630e+01  -8.14734042e-01  -2.19609070e+01\n",
      "    9.51228619e+00  -5.75858802e-02   1.04335940e+00]\n",
      " [  1.06632681e+01   1.91032829e+01  -2.35158844e+01  -7.18898239e+01\n",
      "    4.35341148e+01  -2.85622978e+00  -3.26032219e+01   5.32183790e+00\n",
      "   -1.60959511e+01  -3.95349464e+01   1.52496004e+01  -3.62597389e+01\n",
      "   -4.37084427e+01  -5.75398026e+01  -1.29676113e+01  -8.71287766e+01\n",
      "   -2.20770245e+01  -2.19325562e+01  -3.64409294e+01  -4.96688042e+01\n",
      "   -3.50209274e+01  -5.96136513e+01  -1.05476768e+02  -6.69560089e+01\n",
      "   -3.44285431e+01  -3.86505585e+01  -4.06514244e+01  -6.01347885e+01\n",
      "   -7.10065994e+01  -3.74137650e+01  -7.29230728e+01  -5.90608482e+01\n",
      "   -5.48336411e+01  -8.69517899e+00  -6.16857605e+01  -5.72698288e+01\n",
      "   -6.38308258e+01   1.56438713e+01  -5.51207123e+01  -5.55008841e+00\n",
      "    2.75481510e+01  -3.15494881e+01  -4.00379105e+01]\n",
      " [ -1.19786225e-01   2.14843483e+01   2.82886791e+01  -4.31718178e+01\n",
      "   -2.42860756e+01   2.57024622e+00  -2.00797234e+01  -1.64304447e+01\n",
      "    2.47391014e+01  -3.01557827e+01  -3.72196121e+01  -1.55547838e+01\n",
      "   -4.59489250e+01  -5.58734207e+01  -1.08745489e+01  -7.71134710e+00\n",
      "   -3.94683456e+01  -3.52093811e+01  -2.19440079e+01  -6.95375214e+01\n",
      "   -3.24586525e+01  -2.81086235e+01  -6.44609222e+01  -4.73433113e+01\n",
      "   -2.12785339e+01  -5.02092857e+01  -1.47279863e+01  -3.35541458e+01\n",
      "   -1.73526058e+01  -1.90214520e+01  -3.52577286e+01  -4.37239265e+01\n",
      "   -1.30476465e+01  -3.45721931e+01  -3.95113182e+01  -5.78401413e+01\n",
      "   -3.47796097e+01   3.08682895e+00   5.77650356e+00  -1.74354954e+01\n",
      "    1.93484058e+01  -3.52330780e+01  -3.61298332e+01]\n",
      " [ -4.97156067e+01  -3.25781021e+01  -8.94346905e+00  -7.03977156e+00\n",
      "   -4.08213654e+01  -2.10013618e+01  -5.88182526e+01  -2.26448784e+01\n",
      "   -3.95640144e+01   1.59698439e+01   4.37168503e+00  -8.05866718e+00\n",
      "   -5.13307714e+00  -2.69229259e+01  -2.78510590e+01  -2.74867973e+01\n",
      "   -2.25382195e+01   1.14865913e+01  -1.56318436e+01   9.40492439e+00\n",
      "   -1.07310808e+00  -6.97612572e+00   3.64281178e-01   2.62427406e+01\n",
      "   -4.51091051e+00   2.90122747e+00  -1.77978039e+01  -3.23567276e+01\n",
      "   -8.31466389e+00   1.05276966e+01   4.51264620e+00   1.54160318e+01\n",
      "   -2.86936207e+01   3.95859981e+00  -9.01009178e+00  -2.78802180e+00\n",
      "   -2.27753010e+01  -1.19449816e+01  -1.03649187e+01  -1.70980167e+01\n",
      "   -3.15864277e+01  -2.47637787e+01  -3.12010746e+01]\n",
      " [ -7.25538063e+00   3.12963772e+00  -2.10852470e+01  -3.00284433e+00\n",
      "   -2.48318462e+01  -3.91977844e+01  -3.97585831e+01  -8.62525177e+01\n",
      "   -6.39122314e+01   8.50209618e+00  -2.71384563e+01  -1.29184551e+01\n",
      "    2.11173573e+01  -1.71556473e+01   4.10715485e+01  -2.38383808e+01\n",
      "   -1.01093658e+02   5.11471596e+01  -3.44936905e+01  -3.64069061e+01\n",
      "   -5.30783844e+01  -2.67264404e+01  -2.07021046e+01  -1.95040455e+01\n",
      "   -3.62141304e+01  -2.16048775e+01  -3.00937233e+01  -5.59096489e+01\n",
      "   -3.43497734e+01  -2.30988083e+01  -1.15800924e+01  -4.99073219e+01\n",
      "    2.27394629e+00   2.13621788e+01  -9.87367511e-01  -9.72696495e+00\n",
      "   -1.57350197e+01  -2.64168816e+01   6.85739231e+00  -2.08062878e+01\n",
      "   -8.24011517e+00  -2.31970558e+01  -5.09294167e+01]\n",
      " [  4.41451683e+01   3.87505569e+01  -8.97968578e+00  -1.01556198e+02\n",
      "    6.45032806e+01  -1.18494682e+01  -7.70633240e+01  -4.17449713e+00\n",
      "   -6.29373503e+00  -2.84875011e+01   1.59135017e+01  -7.30183105e+01\n",
      "   -4.39051285e+01  -8.49619675e+01   9.62032604e+00  -4.43946915e+01\n",
      "   -4.78601494e+01  -7.00312138e+00  -5.32263336e+01  -5.17959023e+01\n",
      "   -7.26414108e+01  -7.27937012e+01  -8.87955551e+01  -9.09566956e+01\n",
      "   -1.38740921e+01  -4.09763908e+01  -1.75500717e+01  -7.44191513e+01\n",
      "   -1.01135033e+02  -1.91034470e+01  -9.21138458e+01  -5.10493660e+01\n",
      "   -5.94150772e+01   4.16888285e+00  -1.00487579e+02  -8.02071152e+01\n",
      "   -6.79022217e+01   2.20262184e+01  -4.85272980e+01  -8.43776512e+00\n",
      "    2.60599518e+01  -7.10053406e+01  -7.21373978e+01]\n",
      " [ -2.75627003e+01  -1.65980873e+01  -1.14506197e+01  -3.29540610e+00\n",
      "   -4.35000305e+01  -3.00136995e+00  -1.21477575e+01  -2.24496593e+01\n",
      "   -3.60971069e+01  -3.86235094e+00  -3.66357946e+00   1.01588058e+01\n",
      "   -9.54647636e+00  -6.24985504e+00  -3.26174660e+01  -2.48661671e+01\n",
      "   -1.83202267e+01  -1.29205589e+01  -1.54705448e+01   7.29845858e+00\n",
      "   -5.80194807e+00   1.06764126e+01  -1.38227282e+01   1.62061024e+01\n",
      "   -9.92436123e+00  -6.53810358e+00  -1.95278873e+01  -1.55084047e+01\n",
      "    7.84812331e-01   2.40199733e+00   9.59532070e+00  -2.97333866e-01\n",
      "   -9.64660168e+00  -9.44251728e+00   2.80431676e+00  -8.42925072e+00\n",
      "   -9.12617111e+00  -8.51480389e+00  -4.03179979e+00  -1.87829742e+01\n",
      "   -2.57867527e+00  -9.37597084e+00  -9.13274479e+00]\n",
      " [ -5.58092232e+01  -2.28552742e+01  -1.82960091e+01  -2.12478542e+00\n",
      "   -1.00235489e+02  -1.35761251e+01  -2.83265018e+01  -5.02309952e+01\n",
      "   -1.13114151e+02  -7.85449934e+00   8.07248783e+00   1.48512688e+01\n",
      "   -4.07246971e+01  -4.99941902e+01  -5.46306458e+01  -8.59495239e+01\n",
      "   -5.43732452e+01  -2.19706306e+01  -4.35001221e+01   1.67058411e+01\n",
      "   -1.47950335e+01   1.94974518e+01  -4.06764221e+01   5.21632690e+01\n",
      "   -2.60052986e+01   2.03608751e+00  -6.97750397e+01  -5.69136734e+01\n",
      "   -3.51066399e+01  -2.45052004e+00   1.01736059e+01   2.99655285e+01\n",
      "   -4.85978775e+01  -1.12009087e+01   5.91646433e+00  -3.42557030e+01\n",
      "   -2.40747795e+01  -2.13487091e+01  -1.68705578e+01  -4.78900414e+01\n",
      "   -1.46100798e+01  -2.33947639e+01  -2.04432011e+01]]\n"
     ]
    }
   ],
   "source": [
    "### Run the predictions here and use the model to output the prediction for each image.\n",
    "### Make sure to pre-process the images with the same pre-processing pipeline used earlier.\n",
    "### Feel free to use as many code cells as needed.\n",
    "\n",
    "### Run the predictions here.\n",
    "### Feel free to use as many code cells as needed.\n",
    "\n",
    "print(\"Shape of X_new_test = \", X_new_test_grayscale.shape)\n",
    "\n",
    "with tf.Session() as sess:\n",
    "    saver.restore(sess, tf.train.latest_checkpoint('.'))\n",
    "    p = sess.run(logits, feed_dict={x: X_new_test_grayscale, keep_prob: 1.0})\n",
    "\n",
    "print(\"Probabilities = \", p)"
   ]
  },
  {
   "cell_type": "markdown",
   "metadata": {},
   "source": [
    "### Analyze Performance"
   ]
  },
  {
   "cell_type": "code",
   "execution_count": 161,
   "metadata": {},
   "outputs": [
    {
     "name": "stdout",
     "output_type": "stream",
     "text": [
      "TopKV2(values=array([[ 85.44142151,  44.08623123,  19.07917976,  12.36119175,\n",
      "         10.77781582],\n",
      "       [ 71.66604614,  49.8978157 ,  31.69399261,  13.23517609,\n",
      "         11.29963684],\n",
      "       [ 32.85985184,   9.51228619,   4.98718977,   2.40848613,   1.0433594 ],\n",
      "       [ 43.53411484,  27.54815102,  19.10328293,  15.64387131,\n",
      "         15.24960041],\n",
      "       [ 28.28867912,  24.73910141,  21.4843483 ,  19.34840584,\n",
      "          5.77650356],\n",
      "       [ 26.24274063,  15.96984386,  15.41603184,  11.48659134,\n",
      "         10.52769661],\n",
      "       [ 51.14715958,  41.07154846,  21.3621788 ,  21.11735725,\n",
      "          8.50209618],\n",
      "       [ 64.50328064,  44.1451683 ,  38.75055695,  26.05995178,\n",
      "         22.02621841],\n",
      "       [ 16.20610237,  10.67641258,  10.15880585,   9.5953207 ,\n",
      "          7.29845858],\n",
      "       [ 52.16326904,  29.96552849,  19.49745178,  16.70584106,\n",
      "         14.85126877]], dtype=float32), indices=array([[ 1,  2,  4, 14,  0],\n",
      "       [18, 27, 37, 25, 11],\n",
      "       [12, 40,  2, 32, 42],\n",
      "       [ 4, 40,  1, 37, 10],\n",
      "       [ 2,  8,  1, 40, 38],\n",
      "       [23,  9, 31, 17, 29],\n",
      "       [17, 14, 33, 12,  9],\n",
      "       [ 4,  0,  1, 40, 37],\n",
      "       [23, 21, 11, 30, 19],\n",
      "       [23, 31, 21, 19, 11]]))\n",
      "Image 1\n"
     ]
    },
    {
     "data": {
      "image/png": "[encoded data removed]",
      "text/plain": [
       "<matplotlib.figure.Figure at 0x180d853a358>"
      ]
     },
     "metadata": {},
     "output_type": "display_data"
    },
    {
     "data": {
      "image/png": "[encoded data removed]",
      "text/plain": [
       "<matplotlib.figure.Figure at 0x180d77b84e0>"
      ]
     },
     "metadata": {},
     "output_type": "display_data"
    },
    {
     "name": "stdout",
     "output_type": "stream",
     "text": [
      "Image 2\n"
     ]
    },
    {
     "data": {
      "image/png": "[encoded data removed]",
      "text/plain": [
       "<matplotlib.figure.Figure at 0x180d75c2e48>"
      ]
     },
     "metadata": {},
     "output_type": "display_data"
    },
    {
     "data": {
      "image/png": "[encoded data removed]",
      "text/plain": [
       "<matplotlib.figure.Figure at 0x180d7b816d8>"
      ]
     },
     "metadata": {},
     "output_type": "display_data"
    },
    {
     "name": "stdout",
     "output_type": "stream",
     "text": [
      "Image 3\n"
     ]
    },
    {
     "data": {
      "image/png": "[encoded data removed]",
      "text/plain": [
       "<matplotlib.figure.Figure at 0x180d7adf5f8>"
      ]
     },
     "metadata": {},
     "output_type": "display_data"
    },
    {
     "data": {
      "image/png": "[encoded data removed]",
      "text/plain": [
       "<matplotlib.figure.Figure at 0x180dbd4e080>"
      ]
     },
     "metadata": {},
     "output_type": "display_data"
    },
    {
     "name": "stdout",
     "output_type": "stream",
     "text": [
      "Image 4\n"
     ]
    },
    {
     "data": {
      "image/png": "[encoded data removed]",
      "text/plain": [
       "<matplotlib.figure.Figure at 0x180d7c67b70>"
      ]
     },
     "metadata": {},
     "output_type": "display_data"
    },
    {
     "data": {
      "image/png": "[encoded data removed]",
      "text/plain": [
       "<matplotlib.figure.Figure at 0x180d855db70>"
      ]
     },
     "metadata": {},
     "output_type": "display_data"
    },
    {
     "name": "stdout",
     "output_type": "stream",
     "text": [
      "Image 5\n"
     ]
    },
    {
     "data": {
      "image/png": "[encoded data removed]",
      "text/plain": [
       "<matplotlib.figure.Figure at 0x180d7b76ac8>"
      ]
     },
     "metadata": {},
     "output_type": "display_data"
    },
    {
     "data": {
      "image/png": "[encoded data removed]",
      "text/plain": [
       "<matplotlib.figure.Figure at 0x180dbc0b278>"
      ]
     },
     "metadata": {},
     "output_type": "display_data"
    },
    {
     "name": "stdout",
     "output_type": "stream",
     "text": [
      "Image 6\n"
     ]
    },
    {
     "data": {
      "image/png": "[encoded data removed]",
      "text/plain": [
       "<matplotlib.figure.Figure at 0x180d8d94cc0>"
      ]
     },
     "metadata": {},
     "output_type": "display_data"
    },
    {
     "data": {
      "image/png": "[encoded data removed]",
      "text/plain": [
       "<matplotlib.figure.Figure at 0x180da2f64e0>"
      ]
     },
     "metadata": {},
     "output_type": "display_data"
    },
    {
     "name": "stdout",
     "output_type": "stream",
     "text": [
      "Image 7\n"
     ]
    },
    {
     "data": {
      "image/png": "[encoded data removed]",
      "text/plain": [
       "<matplotlib.figure.Figure at 0x180d79f4a20>"
      ]
     },
     "metadata": {},
     "output_type": "display_data"
    },
    {
     "data": {
      "image/png": "[encoded data removed]",
      "text/plain": [
       "<matplotlib.figure.Figure at 0x180d79b2518>"
      ]
     },
     "metadata": {},
     "output_type": "display_data"
    },
    {
     "name": "stdout",
     "output_type": "stream",
     "text": [
      "Image 8\n"
     ]
    },
    {
     "data": {
      "image/png": "[encoded data removed]",
      "text/plain": [
       "<matplotlib.figure.Figure at 0x180d76a5940>"
      ]
     },
     "metadata": {},
     "output_type": "display_data"
    },
    {
     "data": {
      "image/png": "[encoded data removed]",
      "text/plain": [
       "<matplotlib.figure.Figure at 0x180d7af1278>"
      ]
     },
     "metadata": {},
     "output_type": "display_data"
    },
    {
     "name": "stdout",
     "output_type": "stream",
     "text": [
      "Image 9\n"
     ]
    },
    {
     "data": {
      "image/png": "[encoded data removed]",
      "text/plain": [
       "<matplotlib.figure.Figure at 0x180d7850da0>"
      ]
     },
     "metadata": {},
     "output_type": "display_data"
    },
    {
     "data": {
      "image/png": "[encoded data removed]",
      "text/plain": [
       "<matplotlib.figure.Figure at 0x180da2c14e0>"
      ]
     },
     "metadata": {},
     "output_type": "display_data"
    },
    {
     "name": "stdout",
     "output_type": "stream",
     "text": [
      "Image 10\n"
     ]
    },
    {
     "data": {
      "image/png": "[encoded data removed]",
      "text/plain": [
       "<matplotlib.figure.Figure at 0x180d76cbf98>"
      ]
     },
     "metadata": {},
     "output_type": "display_data"
    },
    {
     "data": {
      "image/png": "[encoded data removed]",
      "text/plain": [
       "<matplotlib.figure.Figure at 0x180d7a468d0>"
      ]
     },
     "metadata": {},
     "output_type": "display_data"
    }
   ],
   "source": [
    "### Calculate the accuracy for these 5 new images. \n",
    "### For example, if the model predicted 1 out of 5 signs correctly, it's 20% accurate on these new images.\n",
    "with tf.Session() as sess:\n",
    "    top = sess.run(tf.nn.top_k(tf.constant(p), k=5))\n",
    "\n",
    "print(top)\n",
    "\n",
    "def plot_prediction(image, prediction, class_label):\n",
    "    \n",
    "    plt.figure(figsize=(1,1))\n",
    "    plt.imshow(image)\n",
    "    \n",
    "    fig, ax = plt.subplots(figsize = (6, 1))\n",
    "\n",
    "    y_pos = np.arange(len(class_label))\n",
    "    error = np.random.rand(len(prediction))\n",
    "\n",
    "    ax.barh(y_pos, prediction, xerr=error, align='center', color='green', ecolor='black')\n",
    "    ax.set_yticks(y_pos)\n",
    "    ax.set_yticklabels(class_label)\n",
    "    ax.invert_yaxis()\n",
    "    ax.set_xlabel('Prediction')\n",
    "    ax.set_ylabel('Class')\n",
    "\n",
    "    plt.show()\n",
    "\n",
    "count = 1 \n",
    "for image, p,c in zip(X_new_test, top[0], top[1]):\n",
    "    print(\"Image\", count)\n",
    "    \n",
    "    plot_prediction(image, p, c)\n",
    "    count +=1"
   ]
  },
  {
   "cell_type": "markdown",
   "metadata": {},
   "source": [
    "### Output Top 5 Softmax Probabilities For Each Image Found on the Web"
   ]
  },
  {
   "cell_type": "markdown",
   "metadata": {},
   "source": [
    "For each of the new images, print out the model's softmax probabilities to show the **certainty** of the model's predictions (limit the output to the top 5 probabilities for each image). [`tf.nn.top_k`](https://www.tensorflow.org/versions/r0.12/api_docs/python/nn.html#top_k) could prove helpful here. \n",
    "\n",
    "The example below demonstrates how tf.nn.top_k can be used to find the top k predictions for each image.\n",
    "\n",
    "`tf.nn.top_k` will return the values and indices (class ids) of the top k predictions. So if k=3, for each sign, it'll return the 3 largest probabilities (out of a possible 43) and the correspoding class ids.\n",
    "\n",
    "Take this numpy array as an example. The values in the array represent predictions. The array contains softmax probabilities for five candidate images with six possible classes. `tk.nn.top_k` is used to choose the three classes with the highest probability:\n",
    "\n",
    "```\n",
    "# (5, 6) array\n",
    "a = np.array([[ 0.24879643,  0.07032244,  0.12641572,  0.34763842,  0.07893497,\n",
    "         0.12789202],\n",
    "       [ 0.28086119,  0.27569815,  0.08594638,  0.0178669 ,  0.18063401,\n",
    "         0.15899337],\n",
    "       [ 0.26076848,  0.23664738,  0.08020603,  0.07001922,  0.1134371 ,\n",
    "         0.23892179],\n",
    "       [ 0.11943333,  0.29198961,  0.02605103,  0.26234032,  0.1351348 ,\n",
    "         0.16505091],\n",
    "       [ 0.09561176,  0.34396535,  0.0643941 ,  0.16240774,  0.24206137,\n",
    "         0.09155967]])\n",
    "```\n",
    "\n",
    "Running it through `sess.run(tf.nn.top_k(tf.constant(a), k=3))` produces:\n",
    "\n",
    "```\n",
    "TopKV2(values=array([[ 0.34763842,  0.24879643,  0.12789202],\n",
    "       [ 0.28086119,  0.27569815,  0.18063401],\n",
    "       [ 0.26076848,  0.23892179,  0.23664738],\n",
    "       [ 0.29198961,  0.26234032,  0.16505091],\n",
    "       [ 0.34396535,  0.24206137,  0.16240774]]), indices=array([[3, 0, 5],\n",
    "       [0, 1, 4],\n",
    "       [0, 5, 1],\n",
    "       [1, 3, 5],\n",
    "       [1, 4, 3]], dtype=int32))\n",
    "```\n",
    "\n",
    "Looking just at the first row we get `[ 0.34763842,  0.24879643,  0.12789202]`, you can confirm these are the 3 largest probabilities in `a`. You'll also notice `[3, 0, 5]` are the corresponding indices."
   ]
  },
  {
   "cell_type": "code",
   "execution_count": 3,
   "metadata": {
    "collapsed": true
   },
   "outputs": [],
   "source": [
    "### Print out the top five softmax probabilities for the predictions on the German traffic sign images found on the web. \n",
    "### Feel free to use as many code cells as needed."
   ]
  },
  {
   "cell_type": "markdown",
   "metadata": {},
   "source": [
    "### Project Writeup\n",
    "\n",
    "Once you have completed the code implementation, document your results in a project writeup using this [template](https://github.com/udacity/CarND-Traffic-Sign-Classifier-Project/blob/master/writeup_template.md) as a guide. The writeup can be in a markdown or pdf file. "
   ]
  },
  {
   "cell_type": "markdown",
   "metadata": {},
   "source": [
    "> **Note**: Once you have completed all of the code implementations and successfully answered each question above, you may finalize your work by exporting the iPython Notebook as an HTML document. You can do this by using the menu above and navigating to  \\n\",\n",
    "    \"**File -> Download as -> HTML (.html)**. Include the finished document along with this notebook as your submission."
   ]
  },
  {
   "cell_type": "markdown",
   "metadata": {},
   "source": [
    "---\n",
    "\n",
    "## Step 4 (Optional): Visualize the Neural Network's State with Test Images\n",
    "\n",
    " This Section is not required to complete but acts as an additional excersise for understaning the output of a neural network's weights. While neural networks can be a great learning device they are often referred to as a black box. We can understand what the weights of a neural network look like better by plotting their feature maps. After successfully training your neural network you can see what it's feature maps look like by plotting the output of the network's weight layers in response to a test stimuli image. From these plotted feature maps, it's possible to see what characteristics of an image the network finds interesting. For a sign, maybe the inner network feature maps react with high activation to the sign's boundary outline or to the contrast in the sign's painted symbol.\n",
    "\n",
    " Provided for you below is the function code that allows you to get the visualization output of any tensorflow weight layer you want. The inputs to the function should be a stimuli image, one used during training or a new one you provided, and then the tensorflow variable name that represents the layer's state during the training process, for instance if you wanted to see what the [LeNet lab's](https://classroom.udacity.com/nanodegrees/nd013/parts/fbf77062-5703-404e-b60c-95b78b2f3f9e/modules/6df7ae49-c61c-4bb2-a23e-6527e69209ec/lessons/601ae704-1035-4287-8b11-e2c2716217ad/concepts/d4aca031-508f-4e0b-b493-e7b706120f81) feature maps looked like for it's second convolutional layer you could enter conv2 as the tf_activation variable.\n",
    "\n",
    "For an example of what feature map outputs look like, check out NVIDIA's results in their paper [End-to-End Deep Learning for Self-Driving Cars](https://devblogs.nvidia.com/parallelforall/deep-learning-self-driving-cars/) in the section Visualization of internal CNN State. NVIDIA was able to show that their network's inner weights had high activations to road boundary lines by comparing feature maps from an image with a clear path to one without. Try experimenting with a similar test to show that your trained network's weights are looking for interesting features, whether it's looking at differences in feature maps from images with or without a sign, or even what feature maps look like in a trained network vs a completely untrained one on the same sign image.\n",
    "\n",
    "<figure>\n",
    " <img src=\"visualize_cnn.png\" width=\"380\" alt=\"Combined Image\" />\n",
    " <figcaption>\n",
    " <p></p> \n",
    " <p style=\"text-align: center;\"> Your output should look something like this (above)</p> \n",
    " </figcaption>\n",
    "</figure>\n",
    " <p></p> \n"
   ]
  },
  {
   "cell_type": "code",
   "execution_count": null,
   "metadata": {
    "collapsed": true
   },
   "outputs": [],
   "source": [
    "### Visualize your network's feature maps here.\n",
    "### Feel free to use as many code cells as needed.\n",
    "\n",
    "# image_input: the test image being fed into the network to produce the feature maps\n",
    "# tf_activation: should be a tf variable name used during your training procedure that represents the calculated state of a specific weight layer\n",
    "# activation_min/max: can be used to view the activation contrast in more detail, by default matplot sets min and max to the actual min and max values of the output\n",
    "# plt_num: used to plot out multiple different weight feature map sets on the same block, just extend the plt number for each new feature map entry\n",
    "\n",
    "def outputFeatureMap(image_input, tf_activation, activation_min=-1, activation_max=-1 ,plt_num=1):\n",
    "    # Here make sure to preprocess your image_input in a way your network expects\n",
    "    # with size, normalization, ect if needed\n",
    "    # image_input =\n",
    "    # Note: x should be the same name as your network's tensorflow data placeholder variable\n",
    "    # If you get an error tf_activation is not defined it may be having trouble accessing the variable from inside a function\n",
    "    activation = tf_activation.eval(session=sess,feed_dict={x : image_input})\n",
    "    featuremaps = activation.shape[3]\n",
    "    plt.figure(plt_num, figsize=(15,15))\n",
    "    for featuremap in range(featuremaps):\n",
    "        plt.subplot(6,8, featuremap+1) # sets the number of feature maps to show on each row and column\n",
    "        plt.title('FeatureMap ' + str(featuremap)) # displays the feature map number\n",
    "        if activation_min != -1 & activation_max != -1:\n",
    "            plt.imshow(activation[0,:,:, featuremap], interpolation=\"nearest\", vmin =activation_min, vmax=activation_max, cmap=\"gray\")\n",
    "        elif activation_max != -1:\n",
    "            plt.imshow(activation[0,:,:, featuremap], interpolation=\"nearest\", vmax=activation_max, cmap=\"gray\")\n",
    "        elif activation_min !=-1:\n",
    "            plt.imshow(activation[0,:,:, featuremap], interpolation=\"nearest\", vmin=activation_min, cmap=\"gray\")\n",
    "        else:\n",
    "            plt.imshow(activation[0,:,:, featuremap], interpolation=\"nearest\", cmap=\"gray\")"
   ]
  }
 ],
 "metadata": {
  "anaconda-cloud": {},
  "kernelspec": {
   "display_name": "Python 3",
   "language": "python",
   "name": "python3"
  },
  "language_info": {
   "codemirror_mode": {
    "name": "ipython",
    "version": 3
   },
   "file_extension": ".py",
   "mimetype": "text/x-python",
   "name": "python",
   "nbconvert_exporter": "python",
   "pygments_lexer": "ipython3",
   "version": "3.5.2"
  },
  "widgets": {
   "state": {},
   "version": "1.1.2"
  }
 },
 "nbformat": 4,
 "nbformat_minor": 1
}
